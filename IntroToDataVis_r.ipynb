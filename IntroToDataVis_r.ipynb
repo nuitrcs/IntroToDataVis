{
 "cells": [
  {
   "cell_type": "markdown",
   "id": "2bb5297a",
   "metadata": {},
   "source": [
    "# Hands-on with R + ggplot2"
   ]
  },
  {
   "cell_type": "markdown",
   "id": "c3d7df2e",
   "metadata": {},
   "source": [
    "# 1. Improving Pie Charts\n",
    "\n",
    "*What is wrong with this figure?* \n",
    "\n",
    "![](https://drive.google.com/uc?id=1K6hCHovjZV5Icbn3zd-gW86RSRjiH0i-)"
   ]
  },
  {
   "cell_type": "markdown",
   "id": "9a69f98b",
   "metadata": {},
   "source": [
    "## Let's agree that this is a monstrosity.  Now, how do we improve it?"
   ]
  },
  {
   "cell_type": "code",
   "execution_count": null,
   "id": "70e13421",
   "metadata": {
    "vscode": {
     "languageId": "r"
    }
   },
   "outputs": [],
   "source": [
    "# import the necessary library\n",
    "library(ggplot2)"
   ]
  },
  {
   "cell_type": "markdown",
   "id": "2912b7db",
   "metadata": {},
   "source": [
    "## 1.1. Read in the data\n",
    "\n",
    "*This is a made up data set from a colleague of mine. We have 10 items, each with a text label and a numeric value.*\n",
    "\n",
    "*I'm using ```read.csv``` to read in the data.*"
   ]
  },
  {
   "cell_type": "code",
   "execution_count": null,
   "id": "bba5ab68",
   "metadata": {
    "vscode": {
     "languageId": "r"
    }
   },
   "outputs": [],
   "source": [
    "url <- 'https://drive.google.com/file/d/1iWAtKk7aOinwb-pJ-Cy-hiB5xBv3Z-b5/view?usp=sharing'\n",
    "\n",
    "# Extract file ID from the URL\n",
    "file_id <- strsplit(url, \"/\")[[1]][6]\n",
    "\n",
    "# Construct the direct download link\n",
    "direct_url <- paste0('https://drive.google.com/uc?id=', file_id)\n",
    "\n",
    "data <- read.csv(direct_url)\n",
    "data"
   ]
  },
  {
   "cell_type": "markdown",
   "id": "8f9b0815",
   "metadata": {},
   "source": [
    "## 1.2. For many uses cases (including this) a bar chart is a better option than a pie chart.\n",
    "\n",
    "*Humans can more easily interpret differences in bar charts. Pie charts require us to interpret areas = slow, while bar charts use position = fast. Generally, you should choose a bar chart over a pie chart when:*\n",
    "- *There are too many categories to easily distinguish between pie chart areas (as we have here).*\n",
    "- *Slice sizes in the pie chart are too similar (as we have here).*\n",
    "- *You have multiple data sets (which we do not have here).*\n",
    "- *When the raw percentages can provide as much (or more) meaning than fraction of a whole (as we have here).*\n",
    "\n",
    "*Pie charts are only useful when there are few categories, each category has a very different percentage, AND the purpose of your visualization is to show fractions of a whole.*\n",
    "\n",
    "*Here is the default bar chart from ggplot.  Leaves lots to be desired...*"
   ]
  },
  {
   "cell_type": "code",
   "execution_count": null,
   "id": "2b3046eb",
   "metadata": {
    "vscode": {
     "languageId": "r"
    }
   },
   "outputs": [],
   "source": [
    "ggplot(data, aes(x = Label, y = Value)) +\n",
    "    geom_bar(stat = \"identity\") # use stat = \"identity\" because we are supplying the actual bar values"
   ]
  },
  {
   "cell_type": "markdown",
   "id": "b1b86767",
   "metadata": {},
   "source": [
    "## 1.3. Improve the axis labels and add a plot title\n",
    "\n",
    "*The text for the bars are unreadable.  How should we fix that?*"
   ]
  },
  {
   "cell_type": "code",
   "execution_count": null,
   "id": "9600c7a9",
   "metadata": {
    "vscode": {
     "languageId": "r"
    }
   },
   "outputs": [],
   "source": [
    "ggplot(data, aes(x = Label, y = Value)) +\n",
    "    geom_bar(stat = \"identity\") + # use stat = \"identity\" because we are supplying the actual bar values\n",
    "    labs(title = \"Percentage of Poor Usage\", x = \"\", y = \"Percent\")"
   ]
  },
  {
   "cell_type": "markdown",
   "id": "550dab46",
   "metadata": {},
   "source": [
    "## 1.4. Fix the bar text, sort the data, add the percentage values to each bar"
   ]
  },
  {
   "cell_type": "code",
   "execution_count": null,
   "id": "548aca4c",
   "metadata": {
    "vscode": {
     "languageId": "r"
    }
   },
   "outputs": [],
   "source": [
    "ggplot(data, aes(x = reorder(Label, Value), y = Value)) +\n",
    "    geom_bar(stat = \"identity\") + # use stat = \"identity\" because we are supplying the actual bar values\n",
    "    labs(title = \"Percentage of Poor Usage\", x = \"\", y = \"\") + \n",
    "    coord_flip() + # this flips the plot to horizontal\n",
    "    geom_text(aes(label = paste0(Value,\"%\")), vjust = 0, hjust = -0.2) + # add labels\n",
    "    ylim(0,11) # add some space for the text labels; since we flipped the plot we use \"ylim\" (instead of \"xlim\")"
   ]
  },
  {
   "cell_type": "markdown",
   "id": "06186178",
   "metadata": {},
   "source": [
    "## 1.5. Clean this up a bit\n",
    "- *I don't want the grid lines anymore*\n",
    "- *We can remove the axes entirely*\n",
    "- *Make the font larger*\n",
    "- *Let's change the colors, and highlight one of them*\n",
    "- *Save the plot*"
   ]
  },
  {
   "cell_type": "code",
   "execution_count": null,
   "id": "3d577452",
   "metadata": {
    "vscode": {
     "languageId": "r"
    }
   },
   "outputs": [],
   "source": [
    "# Make plot wider for display\n",
    "options(repr.plot.width = 15, repr.plot.height = 8)\n",
    "\n",
    "ggplot(data, \n",
    "        aes(\n",
    "            x = reorder(Label, Value),\n",
    "            y = Value,\n",
    "            fill = factor(ifelse(Label == \"Color Choice\", \"Highlighted\", \"Normal\")) # to highlight one bar\n",
    "        )\n",
    "    ) + \n",
    "    geom_bar(stat = \"identity\", show.legend = FALSE) + # use stat = \"identity\" because we are supplying the actual bar values\n",
    "    labs(title = \"Percentage of Poor Usage in Data Visualization\", x = \"\", y = \"\") + \n",
    "    coord_flip() + # this flips the plot to horizontal\n",
    "    geom_text(aes(label = paste0(Value,\"%\")), vjust = 0, hjust = -0.2, size = 6) + # add labels\n",
    "    ylim(0,11) + # add some space for the text labels; since we flipped the plot we use \"ylim\" (instead of \"xlim\")\n",
    "    scale_fill_manual(name = \"\", values = c(\"orange\",\"grey50\")) + # set the colors for highlighting\n",
    "    theme_classic() + # there are many themes to choose from : https://ggplot2.tidyverse.org/reference/ggtheme.html\n",
    "    theme(\n",
    "        axis.line = element_blank(), # remove the remaining axis lines\n",
    "        axis.text.x = element_blank(), # remove x axis labels\n",
    "        axis.ticks.x = element_blank(), # remove x axis ticks\n",
    "        axis.ticks.y = element_blank(),  # remove y axis ticks\n",
    "        axis.text = element_text(size = 20), # increase the font size of the labels\n",
    "        plot.title = element_text(size = 30) # increase the font size of the title\n",
    "    )\n",
    "\n",
    "# save the figure (have to specify size here again)\n",
    "# ggsave(\"bar_r.pdf\", device = \"pdf\", width = 15, height = 8)"
   ]
  },
  {
   "cell_type": "markdown",
   "id": "289438e1",
   "metadata": {},
   "source": [
    "# 2. Scatter Plots"
   ]
  },
  {
   "cell_type": "code",
   "execution_count": null,
   "id": "6e0a1156",
   "metadata": {
    "scrolled": true,
    "vscode": {
     "languageId": "r"
    }
   },
   "outputs": [],
   "source": [
    "# import the necessary library\n",
    "library(ggplot2)"
   ]
  },
  {
   "cell_type": "markdown",
   "id": "679b5044",
   "metadata": {},
   "source": [
    "## 2.1. Read in the data\n",
    "\n",
    "*I downloaded [2024 Chicago taxi data](https://data.cityofchicago.org/Transportation/Taxi-Trips-2024-/ajtu-isnz/about_data) from the [Chicago data portal](https://data.cityofchicago.org/).  This dataset has millions rows and many columns (and is about 1.3G), and therefore may take some time to load and visualize.*\n",
    "\n",
    "*If you want to run this code locally, please either download the data from the Chicago Data Portal linked above, or the version that I have on Google Drive [here](https://drive.google.com/file/d/1QPS8DY2bDCbttMf4dEIIC3LOdYlph7sJ/view?usp=sharing).  (The dataset is too large to host on GitHub.)*  \n",
    "\n",
    "*Here, we will look at columns for `Fare` and `Tips`.*"
   ]
  },
  {
   "cell_type": "code",
   "execution_count": null,
   "id": "042b6436",
   "metadata": {
    "vscode": {
     "languageId": "r"
    }
   },
   "outputs": [],
   "source": [
    "# this assumes that you have downloaded the data (as above), and placed it in a data directory with the file name 'Taxi_Trips__2024-__20240731.csv'\n",
    "df <- read.csv('data/Taxi_Trips__2024-__20240731.csv')\n",
    "head(df)"
   ]
  },
  {
   "cell_type": "markdown",
   "id": "0c5d3264",
   "metadata": {},
   "source": [
    "## 2.2 Let's plot the `Fare` vs. `Tips` data as a scatter plot.\n",
    "\n",
    "*Is there anything that we should improve upon here?*"
   ]
  },
  {
   "cell_type": "code",
   "execution_count": null,
   "id": "796f50cd",
   "metadata": {
    "vscode": {
     "languageId": "r"
    }
   },
   "outputs": [],
   "source": [
    "# create the scatter plot\n",
    "ggplot(data = df, aes(x = Fare, y = Tips)) +\n",
    "    geom_point() "
   ]
  },
  {
   "cell_type": "markdown",
   "id": "724fd9c7",
   "metadata": {},
   "source": [
    "## 2.3 Let's improve this\n",
    "- *Change the axis range.*\n",
    "- *Try open circles as symbols.*\n",
    "- *Add a title and some descriptive labels to the axes.*\n",
    "- *Increase the font sizes.*"
   ]
  },
  {
   "cell_type": "code",
   "execution_count": null,
   "id": "c6d3c974",
   "metadata": {
    "vscode": {
     "languageId": "r"
    }
   },
   "outputs": [],
   "source": [
    "ggplot(data = df, aes(x = Fare, y = Tips)) +\n",
    "    geom_point(shape = 1, size = 2) + \n",
    "    labs(\n",
    "            title = \"How Chicagoans Tipped their Cab Drivers in 2024\", \n",
    "            x = \"Fare ($)\",\n",
    "            y = \"Tip ($)\"\n",
    "    ) +\n",
    "    xlim(0,150) + ylim(0,150) +\n",
    "    theme(\n",
    "        panel.grid.major = element_blank(),  # remove the grid\n",
    "        panel.grid.minor = element_blank(), # remove the grid\n",
    "        axis.title = element_text(size = 20), # increase the font size of the axis titles\n",
    "        plot.title = element_text(size = 30), # increase the font size of the title\n",
    "        axis.text = element_text(size = 16), # increase the font size of the tick labels\n",
    "        aspect.ratio = 1, # so it's not as wide as the default\n",
    "    )\n",
    "\n",
    "# save the figure (have to specify size here)\n",
    "# ggsave(\"scatter_r.pdf\", device = \"pdf\", width = 8, height = 5)"
   ]
  },
  {
   "cell_type": "markdown",
   "id": "4afb14bb",
   "metadata": {},
   "source": [
    "## 2.4 Can we improve this more?\n",
    "- *Use a 2d histogram instead.  (Often when you have so much overlapping data, it is easier for the view to switch to a 2d histogram or contour plot, or similar).*\n",
    "- *Include a colorbar.*\n",
    "- *Add lines at typical tip rates and label them?*"
   ]
  },
  {
   "cell_type": "code",
   "execution_count": null,
   "id": "a12b34a5",
   "metadata": {
    "vscode": {
     "languageId": "r"
    }
   },
   "outputs": [],
   "source": [
    "library(scales)  # For log transformation\n",
    "library(dplyr) "
   ]
  },
  {
   "cell_type": "code",
   "execution_count": null,
   "id": "32c9ea1f",
   "metadata": {
    "vscode": {
     "languageId": "r"
    }
   },
   "outputs": [],
   "source": [
    "# explicitly set the plot size for Jupyter display \n",
    "options(jupyter.plot_mimetypes = \"image/png\", repr.plot.width = 9, repr.plot.height = 5, repr.plot.res = 300)\n",
    "\n",
    "# Create the plot\n",
    "p <- ggplot(df, aes(x = Fare, y = Tips)) +\n",
    "    geom_bin2d(bins = 60) +\n",
    "    scale_fill_continuous(\n",
    "        trans = 'log', \n",
    "        low = \"white\", high = \"darkblue\",\n",
    "        limits = c(1, 1e4),# Set the minimum and maximum values for the colormap\n",
    "        oob = scales::squish, # Map out-of-bounds values to the maximum color\n",
    "        breaks = c(1, 10, 100, 1e3, 1e4),  # Define the legend values to show\n",
    "        guide = guide_colourbar(\n",
    "            title = \"Number of Rides\",\n",
    "            title.theme = element_text(size = 20),   # Title font size\n",
    "            label.theme = element_text(size = 16),    # Label font size\n",
    "        )\n",
    "    ) +\n",
    "    labs(\n",
    "        title = \"How Chicagoans Tipped\\ntheir Cab Drivers in 2024\", \n",
    "        x = \"Fare ($)\",\n",
    "        y = \"Tip ($)\"\n",
    "    ) +\n",
    "    scale_x_continuous(limits = c(0, 150), expand = c(0, 0)) +\n",
    "    scale_y_continuous(limits = c(0, 60), expand = c(0, 0)) +\n",
    "    theme_bw() + # remove the gray background\n",
    "    theme(\n",
    "        panel.grid.major = element_blank(),  # remove the grid\n",
    "        panel.grid.minor = element_blank(), # remove the grid\n",
    "        axis.title = element_text(size = 20), # increase the font size of the axis titles\n",
    "        plot.title = element_text(size = 30), # increase the font size of the title\n",
    "        axis.text = element_text(size = 16), # increase the font size of the tick labels\n",
    "        aspect.ratio = 1, # so it's not as wide as the default\n",
    "        legend.key.height = unit(1.5, \"cm\")\n",
    "    ) \n",
    "\n",
    "\n",
    "# add lines at standard tip rates (uncomment below to include the lines in the plot)\n",
    "# tip_pcts <- c(0.2, 0.25, 0.30, 0.4)\n",
    "# p <- p + \n",
    "#   geom_abline(data = data.frame(slope = tip_pcts), aes(intercept = 0, slope = slope), color = 'black', linetype = 'dashed', alpha = 0.7) +\n",
    "#   geom_text(data = data.frame(pct = tip_pcts), aes(x = 120, y = pct*130, label = paste0(pct*100, \"%\"), angle = 100*pct), color = 'black', hjust = 0, alpha = 0.7)\n",
    "\n",
    "\n",
    "# show the plot\n",
    "print(p)"
   ]
  },
  {
   "cell_type": "code",
   "execution_count": null,
   "id": "54e4c4ba",
   "metadata": {
    "vscode": {
     "languageId": "r"
    }
   },
   "outputs": [],
   "source": []
  }
 ],
 "metadata": {
  "kernelspec": {
   "display_name": "R",
   "language": "R",
   "name": "ir"
  },
  "language_info": {
   "codemirror_mode": "r",
   "file_extension": ".r",
   "mimetype": "text/x-r-source",
   "name": "R",
   "pygments_lexer": "r",
   "version": "4.2.2"
  }
 },
 "nbformat": 4,
 "nbformat_minor": 5
}
