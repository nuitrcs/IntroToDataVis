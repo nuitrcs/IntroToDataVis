{
 "cells": [
  {
   "cell_type": "markdown",
   "metadata": {
    "id": "8bS86cADWgJP"
   },
   "source": [
    "# Hands-on with Python + matplotlib"
   ]
  },
  {
   "cell_type": "markdown",
   "metadata": {
    "id": "gxi0tNMVq62l"
   },
   "source": [
    "# 1. Improving Pie Charts\n",
    "\n",
    "*What is wrong with this figure?* \n",
    "\n",
    "![](https://drive.google.com/uc?id=1K6hCHovjZV5Icbn3zd-gW86RSRjiH0i-)"
   ]
  },
  {
   "cell_type": "markdown",
   "metadata": {
    "id": "vlv02JW8ZKJC"
   },
   "source": [
    "## Let's agree that this is a monstrosity.  Now, how do we improve it?"
   ]
  },
  {
   "cell_type": "code",
   "execution_count": null,
   "metadata": {
    "id": "D9ShFZowVS9w"
   },
   "outputs": [],
   "source": [
    "# import necessary libraries\n",
    "import numpy as np\n",
    "import pandas as pd\n",
    "from matplotlib import pyplot as plt\n",
    "\n",
    "%matplotlib inline"
   ]
  },
  {
   "cell_type": "markdown",
   "metadata": {
    "id": "cRotM6c9WXOJ"
   },
   "source": [
    "## 1.1. Read in the data\n",
    "\n",
    "*This is a made up data set from a colleague of mine. We have 10 items, each with a text label and a numeric value.*\n",
    "\n",
    "*I'm using the Python library ```pandas``` to read in the data.*"
   ]
  },
  {
   "cell_type": "code",
   "execution_count": null,
   "metadata": {
    "id": "H7IQrxfnVjMt"
   },
   "outputs": [],
   "source": [
    "url = 'https://drive.google.com/file/d/1iWAtKk7aOinwb-pJ-Cy-hiB5xBv3Z-b5/view?usp=sharing'\n",
    "url='https://drive.google.com/uc?id=' + url.split('/')[-2]\n",
    "\n",
    "data = pd.read_csv(url)\n",
    "data"
   ]
  },
  {
   "cell_type": "markdown",
   "metadata": {
    "id": "brfLA3hbWdyQ"
   },
   "source": [
    "## 1.2. For many uses cases (including this) a bar chart is a better option than a pie chart.\n",
    "\n",
    "*Humans can more easily interpret differences in bar charts. Pie charts require us to interpret areas = slow, while bar charts use position = fast. Generally, you should choose a bar chart over a pie chart when:*\n",
    "- *There are too many categories to easily distinguish between pie chart areas (as we have here).*\n",
    "- *Slice sizes in the pie chart are too similar (as we have here).*\n",
    "- *You have multiple data sets (which we do not have here).*\n",
    "- *When the raw percentages can provide as much (or more) meaning than fraction of a whole (as we have here).*\n",
    "\n",
    "*Pie charts are only useful when there are few categories, each category has a very different percentage, AND the purpose of your visualization is to show fractions of a whole.*\n",
    "\n",
    "*Here is the default bar chart from python.  Leaves lots to be desired...*"
   ]
  },
  {
   "cell_type": "code",
   "execution_count": null,
   "metadata": {
    "id": "BWMajZmDV13V"
   },
   "outputs": [],
   "source": [
    "f,ax = plt.subplots()\n",
    "\n",
    "ind = np.arange(len(data))  # the x locations for the bars\n",
    "width = 0.5 # the width of the bars\n",
    "rects = ax.bar(ind, data['Value'], width)"
   ]
  },
  {
   "cell_type": "markdown",
   "metadata": {
    "id": "Vx654w0cWvZu"
   },
   "source": [
    "## 1.3. Add some labels\n",
    "\n",
    "*The text for the bars are unreadable.  How should we fix that?*"
   ]
  },
  {
   "cell_type": "code",
   "execution_count": null,
   "metadata": {
    "id": "_6sg8O-RWv0c"
   },
   "outputs": [],
   "source": [
    "f,ax = plt.subplots()\n",
    "\n",
    "ind = np.arange(len(data))  # the x locations for the bars\n",
    "width = 0.5 # the width of the bars\n",
    "rects = ax.bar(ind, data['Value'], width)\n",
    "\n",
    "# add some text for labels, title and axes ticks\n",
    "ax.set_ylabel('Percent')\n",
    "ax.set_title('Percentage of Poor Usage')\n",
    "ax.set_xticks(ind)\n",
    "_ = ax.set_xticklabels(data['Label'])"
   ]
  },
  {
   "cell_type": "markdown",
   "metadata": {
    "id": "XiY2kgiDW8N8"
   },
   "source": [
    "## 1.4. Fix the bar text, sort the data, add the percentage values to each bar"
   ]
  },
  {
   "cell_type": "code",
   "execution_count": null,
   "metadata": {
    "id": "nNl9xZgzWzNp"
   },
   "outputs": [],
   "source": [
    "f,ax = plt.subplots()\n",
    "\n",
    "# sort the data (nice aspect of pandas dataFrames)\n",
    "data.sort_values('Value', inplace=True)\n",
    "\n",
    "ind = np.arange(len(data))  # the x locations for the bars\n",
    "width = 0.5 # the width of the bars\n",
    "rects = ax.barh(ind, data['Value'], width, zorder=2)\n",
    "\n",
    "# add some text for labels, title and axes ticks\n",
    "ax.set_xlabel('Percent')\n",
    "ax.set_title('Percentage of Poor Usage')\n",
    "ax.set_yticks(ind)\n",
    "ax.set_yticklabels(data['Label'])\n",
    "\n",
    "# add a grid behind the plot\n",
    "ax.grid(color='gray', linestyle='-', linewidth=1, zorder = 1)\n",
    "\n",
    "# I grabbed this from here : https://matplotlib.org/stable/gallery/lines_bars_and_markers/bar_label_demo.html\n",
    "# Label with specially formatted floats\n",
    "ax.bar_label(rects, fmt='%.1f')\n",
    "ax.set_xlim(right=12)  # adjust xlim to fit labels\n",
    "        "
   ]
  },
  {
   "cell_type": "markdown",
   "metadata": {
    "id": "RUrcErh2XCEW"
   },
   "source": [
    "## 1.5. Clean this up a bit\n",
    "- *I don't want the grid lines anymore*\n",
    "- *We can remove the axes entirely*\n",
    "- *Make the font larger*\n",
    "- *Let's change the colors, and highlight one of them*\n",
    "- *Save the plot*"
   ]
  },
  {
   "cell_type": "code",
   "execution_count": null,
   "metadata": {
    "id": "ug1oyN_tW_C7"
   },
   "outputs": [],
   "source": [
    "f,ax = plt.subplots(figsize=(10,8))\n",
    "\n",
    "# sort the data (nice aspect of pandas dataFrames)\n",
    "data.sort_values('Value', inplace=True)\n",
    "\n",
    "ind = np.arange(len(data))  # the x locations for the bars\n",
    "width = 0.7 # the width of the bars\n",
    "rects = ax.barh(ind, data['Value'], width, zorder=2)\n",
    "\n",
    "# add some text for labels, title and axes ticks\n",
    "ax.set_title('Percentage of Poor Usage in Data Visualization', fontsize = 30)\n",
    "ax.set_yticks(ind)\n",
    "ax.set_yticklabels(data['Label'], fontsize=20)\n",
    "\n",
    "# remove all the axes, ticks and lower x label\n",
    "aoff = ['right', 'left', 'top', 'bottom']\n",
    "for x in aoff:\n",
    "    ax.spines[x].set_visible(False)\n",
    "# remove the ticks and labels on the x axis\n",
    "ax.set_xticks([])\n",
    "\n",
    "# Label with specially formatted floats\n",
    "ax.bar_label(rects, fmt='%.1f%%', fontsize=20)\n",
    "ax.set_xlim(right=10)  # adjust xlim to fit labels\n",
    "\n",
    "# change the colors\n",
    "highlight = [4]\n",
    "for i, r in enumerate(rects):\n",
    "    r.set_color('gray')\n",
    "    if (i in highlight):\n",
    "        r.set_color('orange')\n",
    "\n",
    "\n",
    "    \n",
    "#f.savefig('bar.pdf',format='pdf', bbox_inches = 'tight') "
   ]
  },
  {
   "cell_type": "markdown",
   "metadata": {
    "id": "U7sjmwi3rlk0"
   },
   "source": [
    "# 2. Scatter Plots"
   ]
  },
  {
   "cell_type": "code",
   "execution_count": null,
   "metadata": {
    "id": "2Mc-dgJ4rnzm"
   },
   "outputs": [],
   "source": [
    "# import necessary libraries\n",
    "import numpy as np\n",
    "import pandas as pd\n",
    "from matplotlib import pyplot as plt\n",
    "import matplotlib as mpl\n",
    "\n",
    "%matplotlib inline"
   ]
  },
  {
   "cell_type": "markdown",
   "metadata": {
    "id": "kRr-mZnjryrq"
   },
   "source": [
    "## 2.1. Read in the data\n",
    "\n",
    "*I downloaded [2024 Chicago taxi data](https://data.cityofchicago.org/Transportation/Taxi-Trips-2024-/ajtu-isnz/about_data) from the [Chicago data portal](https://data.cityofchicago.org/).  This dataset has millions rows and many columns (and is about 1.3G), and therefore may take some time to load and visualize.  If you want to run this code locally, please either download the data from teh Chicago Data Portal linked above, or the version that I have on Google Drive [here](https://drive.google.com/file/d/1QPS8DY2bDCbttMf4dEIIC3LOdYlph7sJ/view?usp=sharing).  (The dataset is too large to host on GitHub.)*  \n",
    "\n",
    "*Here, we will look at columns for `Fare` and `Tips`.*"
   ]
  },
  {
   "cell_type": "code",
   "execution_count": null,
   "metadata": {
    "id": "XnMcvE7brt3C"
   },
   "outputs": [],
   "source": [
    "# this assumes that you have downloaded the data (as above), and placed it in a data directory with the file name 'Taxi_Trips__2024-__20240731.csv'\n",
    "df = pd.read_csv('data/Taxi_Trips__2024-__20240731.csv')\n",
    "df.head()"
   ]
  },
  {
   "cell_type": "markdown",
   "metadata": {
    "id": "wP6YovQasXk9"
   },
   "source": [
    "## 2.2 Let's plot the `Fare` vs. `Tips` data as a scatter plot.\n",
    "\n",
    "*Is there anything that we should improve upon here?*"
   ]
  },
  {
   "cell_type": "code",
   "execution_count": null,
   "metadata": {
    "id": "9IuItkOOsUjz"
   },
   "outputs": [],
   "source": [
    "# define the figure and axis objects\n",
    "f, ax = plt.subplots()\n",
    "\n",
    "# plot the data as a scatterplot\n",
    "ax.scatter(df['Fare'], df['Tips'])"
   ]
  },
  {
   "cell_type": "markdown",
   "metadata": {
    "id": "gKxc17pk7rsq"
   },
   "source": [
    "## 2.3 Let's improve this\n",
    "- *Change the axis range.*\n",
    "- *Try open circles as symbols.*\n",
    "- *Add a title and some descriptive labels to the axes.*\n",
    "- *Increase the font sizes.*"
   ]
  },
  {
   "cell_type": "code",
   "execution_count": null,
   "metadata": {
    "id": "PCefnoX6sdLa"
   },
   "outputs": [],
   "source": [
    "# define the figure and axis objects\n",
    "f, ax = plt.subplots()\n",
    "\n",
    "# plot the data as a scatterplot\n",
    "ax.scatter(df['Fare'], df['Tips'], s=40, facecolors='none', edgecolors='black')\n",
    "\n",
    "# set the labels with correct font sizes\n",
    "ax.set_title(\"How Chicagoans Tipped their Cab Drivers in 2024\", fontsize=18, pad=20)\n",
    "ax.set_xlabel(\"Fare ($)\", fontsize=14)\n",
    "ax.set_ylabel(\"Tip ($)\", fontsize=14)\n",
    "\n",
    "# change the axis range\n",
    "ax.set_xlim(0, 150)\n",
    "ax.set_ylim(0, 150)"
   ]
  },
  {
   "cell_type": "markdown",
   "metadata": {},
   "source": [
    "## 2.4 Can we improve this more?\n",
    "- *Use a 2d histogram instead.  (Often when you have so much overlapping data, it is easier for the view to switch to a 2d histogram or contour plot, or similar).*\n",
    "- *Include a colorbar.*\n",
    "- *Add a line at 20% Fare, and label it.*"
   ]
  },
  {
   "cell_type": "code",
   "execution_count": null,
   "metadata": {},
   "outputs": [],
   "source": [
    "# define the figure and axis objects\n",
    "f, ax = plt.subplots()\n",
    "\n",
    "# plot the data as a scatterplot\n",
    "h, xedges, yedges, image = ax.hist2d(df['Fare'], df['Tips'], bins=60, cmap='Blues', range = [[0,150], [0,60]], norm = mpl.colors.LogNorm(vmax = 1e4))\n",
    "\n",
    "# Add a colorbar\n",
    "cbar = plt.colorbar(image, ax=ax)\n",
    "cbar.set_label('Number of Rides', fontsize=14)  # Set the label for the colorbar\n",
    "\n",
    "# add lines at standard tip rates (uncomment below to include the lines in the plot)\n",
    "# xline = np.linspace(0,150,100) # define an x variable that spans our plot range\n",
    "# tip_pcts = [0.2, 0.25, 0.30, 0.4] # choose a list of tip percentages to plot, then iterate through to plot the lines and labels\n",
    "# for p in tip_pcts:\n",
    "#     ax.plot(xline, p*xline, color = 'gray', linestyle = 'dashed', alpha = 0.7) \n",
    "#     ax.text(xline[-20], p*xline[-20] + 5*p, f'{p*100:.0f}%', rotation = 100*p, color = 'gray')\n",
    "\n",
    "\n",
    "# set the labels with correct font sizes\n",
    "ax.set_title(\"How Chicagoans Tipped their Cab Drivers in 2024\", fontsize=18, pad=20)\n",
    "ax.set_xlabel(\"Fare ($)\", fontsize=14)\n",
    "ax.set_ylabel(\"Tip ($)\", fontsize=14)\n",
    "\n",
    "# Note that we don't need to explicitly set the axis range because it will be limited by the range we supplied to hist2d above\n",
    "\n"
   ]
  },
  {
   "cell_type": "code",
   "execution_count": null,
   "metadata": {},
   "outputs": [],
   "source": []
  }
 ],
 "metadata": {
  "colab": {
   "collapsed_sections": [],
   "name": "IntroToDataVis.ipynb",
   "provenance": []
  },
  "kernelspec": {
   "display_name": "Python 3 (ipykernel)",
   "language": "python",
   "name": "python3"
  },
  "language_info": {
   "codemirror_mode": {
    "name": "ipython",
    "version": 3
   },
   "file_extension": ".py",
   "mimetype": "text/x-python",
   "name": "python",
   "nbconvert_exporter": "python",
   "pygments_lexer": "ipython3",
   "version": "3.10.9"
  }
 },
 "nbformat": 4,
 "nbformat_minor": 1
}
